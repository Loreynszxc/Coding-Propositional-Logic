{
 "cells": [
  {
   "cell_type": "markdown",
   "metadata": {},
   "source": [
    "<h4><center><i>Ask for additional fries and drinks to the order if the customer would buy a Cheese Burger Deluxe, also if they want a Cheese Burger Deluxe throw in a Sundae. Always remember to print the receipt for every transaction.</i></center></h4> <center> $p$: Ask for additional fries to the order <br>$q$: Ask for additional drinks to the order <br>$r$: The customer would buy a Cheese Burger Deluxe.<br>$s$: Always remember print the receipt for every transaction. </center>"
   ]
  },
  {
   "cell_type": "code",
   "execution_count": 1,
   "metadata": {},
   "outputs": [
    {
     "name": "stdout",
     "output_type": "stream",
     "text": [
      "cheese burger deluxe\n",
      "fries\n",
      "drinks\n",
      "sundae\n"
     ]
    }
   ],
   "source": [
    "'''\n",
    "ACTIVITY 1 (5 points)\n",
    "\n",
    "You will be given either a statement or a formula as your activity. If you are given a formula please translate them into an English statement, \n",
    "however, if you are given an English statement translate them to a wff. For both cases provide the code below, then run it to display the output.\n",
    "'''\n",
    "### START YOUR CODE BELOW HERE ###\n",
    "\n",
    "order = []\n",
    "customer_order = \"cbd\"\n",
    "fries = True\n",
    "drinks = True \n",
    "if(customer_order==\"cbd\"):\n",
    "    if(fries and drinks):\n",
    "        order.append(\"cheese burger deluxe\")\n",
    "        order.append(\"fries\")\n",
    "        order.append(\"drinks\")\n",
    "        order.append(\"sundae\")\n",
    "for receipt in order:\n",
    "    print(receipt)\n",
    "    \n",
    "### END OF CODE ###  \n"
   ]
  },
  {
   "cell_type": "markdown",
   "metadata": {},
   "source": [
    "<img src = \"prob1.jpeg\">"
   ]
  },
  {
   "cell_type": "markdown",
   "metadata": {},
   "source": [
    "<h4><center><i>If the measure of water in a pool or rain gauge is greater than or equal to 10 feet then transfer 2 feet of pool water and 10 feet of rain gauge water to another place.</i></center></h4> <center> $p$: The measure of water in a pool is greater than 10 feet <br> $q$: The measure of water in a pool is equal to 10 feet <br> $r$: The measure of water in a rain gauge is greater than 10 feet <br> $s$: The measure of water in a rain gauge is equal to 10 feet <br> $t$: Transfer 2 feet of pool water to another place <br> $u$: Transfer 2 feet of rain gauge water to another place <br> $(p\\lor q)\\lor (r\\lor s) \\rightarrow (t\\wedge u)$"
   ]
  },
  {
   "cell_type": "code",
   "execution_count": 4,
   "metadata": {},
   "outputs": [],
   "source": [
    "'''\n",
    "ACTIVITY 2 (5 points)\n",
    "\n",
    "Given the pseudocode provided to you determine the WFF and English statement. For additional points (equivalent to 2 points), derive the simplified\n",
    "flowchart and WFF for the given pseudocode.\n",
    "'''\n",
    "### START YOUR CODE BELOW HERE ###\n",
    "def transfer_to_resource(rain_gauge, pool):\n",
    "    if pool >= 10 or rain_gauge >= 10:\n",
    "        pool -= 2\n",
    "        rain_gauge -= 10\n",
    "    return pool, rain_gauge\n",
    "        \n",
    "\n",
    "\n",
    "### END OF CODE ###"
   ]
  },
  {
   "cell_type": "code",
   "execution_count": 5,
   "metadata": {},
   "outputs": [
    {
     "data": {
      "text/plain": [
       "(8, 0)"
      ]
     },
     "execution_count": 5,
     "metadata": {},
     "output_type": "execute_result"
    }
   ],
   "source": [
    "rain_gauge = 10\n",
    "pool = 10\n",
    "transfer_to_resource(rain_gauge, pool)"
   ]
  }
 ],
 "metadata": {
  "kernelspec": {
   "display_name": "Python 3",
   "language": "python",
   "name": "python3"
  },
  "language_info": {
   "codemirror_mode": {
    "name": "ipython",
    "version": 3
   },
   "file_extension": ".py",
   "mimetype": "text/x-python",
   "name": "python",
   "nbconvert_exporter": "python",
   "pygments_lexer": "ipython3",
   "version": "3.8.3"
  }
 },
 "nbformat": 4,
 "nbformat_minor": 4
}
